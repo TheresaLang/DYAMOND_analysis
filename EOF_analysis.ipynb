{
 "cells": [
  {
   "cell_type": "code",
   "execution_count": null,
   "metadata": {},
   "outputs": [],
   "source": [
    "from importlib import reload\n",
    "import numpy as np\n",
    "import os\n",
    "import random\n",
    "import pickle\n",
    "import multiprocessing\n",
    "import functools\n",
    "import seaborn\n",
    "import logging\n",
    "import typhon\n",
    "import cmocean\n",
    "from pylab import cm\n",
    "from os.path import join\n",
    "from netCDF4 import Dataset\n",
    "from tqdm import tqdm_notebook\n",
    "from scipy.interpolate import interp1d\n",
    "from scipy.signal import detrend\n",
    "import matplotlib.pyplot as plt\n",
    "import matplotlib.gridspec as gridspec\n",
    "import processing_tools as ptools\n",
    "import analysis_tools as atools\n",
    "from importlib import reload\n",
    "from moisture_space import utils, plots\n",
    "from moisture_space import moisture_space\n",
    "logging.basicConfig(format='%(levelname)s:%(message)s', level=logging.ERROR)"
   ]
  },
  {
   "cell_type": "markdown",
   "metadata": {},
   "source": [
    "# Config"
   ]
  },
  {
   "cell_type": "code",
   "execution_count": null,
   "metadata": {},
   "outputs": [],
   "source": [
    "models = ['ICON', 'NICAM', 'GEOS', 'IFS', 'MPAS', 'FV3', 'UM', 'SAM', 'ARPEGE', 'ERA5']\n",
    "runs = {\n",
    "    'ICON': ['2.5km', '5.0km_1'],\n",
    "    'NICAM': ['3.5km'],\n",
    "    'SAM': ['4.0km'],\n",
    "    'UM': ['5.0km'],\n",
    "    'FV3': ['3.25km'],\n",
    "    'GEOS': ['3.0km'],\n",
    "    'IFS': ['4.0km', '9.0km'],\n",
    "    'MPAS': ['3.75km'],\n",
    "    'ARPEGE': ['2.5km'],\n",
    "    'ERA5': ['31.0km']\n",
    "}\n",
    "exps = []\n",
    "for m in models:\n",
    "    for run in runs[m]:\n",
    "        exps.append(m+'-'+run)\n",
    "        \n",
    "time_period = ['0810', '0908']\n",
    "variables_3D = ['TEMP', 'PRES', 'QV', 'QI', 'QC', 'RH', 'ICQI', 'CFI', 'ICQC', 'CFL', 'W']\n",
    "variables_2D = ['IWV', 'H_tropo']\n",
    "datapath = '/mnt/lustre02/work/mh1126/m300773/DYAMOND/{}/random_samples/'\n",
    "filenames = '{}-{}_{}_sample_{}_{}-{}.nc'\n",
    "num_profiles = int(1 * 1e7)\n",
    "perc_values = np.arange(1, 100.5, 1.0)\n",
    "num_percs = len(perc_values)\n",
    "iwv_bin_bnds = np.arange(0, 101, 1)\n",
    "bins = range(len(iwv_bin_bnds) - 1) \n",
    "exp = 0\n",
    "h = np.arange(100, 17900, 400) # height vector to interpolate all models on\n",
    "height = {}\n",
    "num_levels = {}\n",
    "for m in models:\n",
    "    for run in runs[m]:\n",
    "        key = m+'-'+run\n",
    "        filename = filenames.format(m, run, variables_3D[0], num_profiles, time_period[0], time_period[1])\n",
    "        if run == '2.5km_winter':\n",
    "            filename = filenames.format(m, run, variables_3D[0], num_profiles, '0120', '0202')\n",
    "        filename = join(datapath.format(m), filename)\n",
    "        #xarr = xr.open_dataset(filename)\n",
    "        with(Dataset(filename)) as ds:\n",
    "            height[key] = ds.variables['height'][:].filled(np.nan)\n",
    "        num_levels[key] = len(height[key])\n",
    "        \n",
    "# NICAM excluded for variablilty analysis!\n",
    "variability_exclude = ['']\n",
    "models_variability = [m for m in exps if not m in variability_exclude]"
   ]
  },
  {
   "cell_type": "markdown",
   "metadata": {},
   "source": [
    "# Read randomly sampled profiles from files and interpolate to common height"
   ]
  },
  {
   "cell_type": "code",
   "execution_count": null,
   "metadata": {},
   "outputs": [],
   "source": [
    "reload(moisture_space)\n",
    "ms_perc = {}\n",
    "ms_bins = {}\n",
    "percentiles = {}\n",
    "for m in models:\n",
    "    for run in runs[m]:\n",
    "        exp = m+'-'+run\n",
    "        path_perc = f'{m}-{run}_{time_period[0]}-{time_period[1]}_perc_means_{num_profiles}_1exp.pkl'\n",
    "        path_bin = f'{m}-{run}_{time_period[0]}-{time_period[1]}_bin_means_{num_profiles}_1exp.pkl'\n",
    "        if run == '2.5km_winter':\n",
    "            path_perc = f'{m}-{run}_0120-0202_perc_means_{num_profiles}_1exp.pkl'\n",
    "            path_bin = f'{m}-{run}_0120-0202_bin_means_{num_profiles}_1exp.pkl'\n",
    "        with open(join(datapath.format(m), path_perc), 'rb' ) as infile:\n",
    "            perc = pickle.load(infile)\n",
    "        with open(join(datapath.format(m), path_bin), 'rb' ) as infile:\n",
    "            binned = pickle.load(infile)\n",
    "        percentiles[exp] = perc['percentiles']\n",
    "        if 'OLR' in variables_2D and 'STOA' in variables_2D:\n",
    "            if m == 'ICON':\n",
    "                perc['mean']['OLR'] *= -1 \n",
    "                binned['mean']['OLR'] *= -1\n",
    "            if np.mean(perc['mean']['STOA']) < 0:\n",
    "                perc['mean']['STOA'] *= -1\n",
    "                binned['mean']['STOA'] *= -1\n",
    "        ms_perc[exp] = {}\n",
    "        ms_bins[exp] = {}\n",
    "        for var in variables_3D:\n",
    "            stats_perc = moisture_space.ProfileStats.from_dict(perc, var)\n",
    "            ms_perc[exp][var] = moisture_space.PercMoistureSpace(exp, stats_perc, perc_values, height[exp]).interpolate(h)\n",
    "            stats_bin = moisture_space.ProfileStats.from_dict(binned, var)\n",
    "            ms_bins[exp][var] = moisture_space.BinMoistureSpace(exp, stats_bin, perc_values, height[exp], binned['count']).interpolate(h)\n",
    "            ms_bins[exp][var].remove_empty_bins(number_threshold=300)\n",
    "        for var in variables_2D:\n",
    "            stats_perc = moisture_space.ProfileStats.from_dict(perc, var)\n",
    "            ms_perc[exp][var] = moisture_space.PercMoistureSpace(exp, stats_perc, perc_values, None)   \n",
    "            stats_bin = moisture_space.ProfileStats.from_dict(binned, var)\n",
    "            ms_bins[exp][var] = moisture_space.BinMoistureSpace(exp, stats_bin, perc_values, None, binned['count'])\n",
    "            ms_bins[exp][var].remove_empty_bins(number_threshold=300)"
   ]
  },
  {
   "cell_type": "markdown",
   "metadata": {},
   "source": [
    "# Calculate lapse rate and total cloud condensate"
   ]
  },
  {
   "cell_type": "code",
   "execution_count": null,
   "metadata": {},
   "outputs": [],
   "source": [
    "reload(utils)\n",
    "Rd = typhon.constants.gas_constant_dry_air\n",
    "cp = typhon.constants.isobaric_mass_heat_capacity\n",
    "g = typhon.constants.g\n",
    "for exp in exps:\n",
    "    lapse_rate = -np.gradient(ms_perc[exp]['TEMP'].mean, axis=1) / np.gradient(h)\n",
    "    stability = Rd / cp * ms_perc[exp]['TEMP'].mean / ms_perc[exp]['PRES'].mean * (1 - lapse_rate * cp / g)\n",
    "    cc_tot = ms_perc[exp]['QI'].mean + ms_perc[exp]['QC'].mean\n",
    "    e = typhon.physics.specific_humidity2vmr(ms_perc[exp]['QV'].mean) * ms_perc[exp]['PRES'].mean\n",
    "    es = typhon.physics.e_eq_mixed_mk(ms_perc[exp]['TEMP'].mean)\n",
    "    td = utils.calc_dewpoint(e)\n",
    "    density = utils.calc_density_moist_air(\n",
    "        ms_perc[exp]['PRES'].mean,\n",
    "        ms_perc[exp]['TEMP'].mean,\n",
    "        ms_perc[exp]['QV'].mean\n",
    "    )\n",
    "    w_int = utils.calc_integrated_velocity(\n",
    "        ms_perc[exp]['W'].mean,\n",
    "        h,\n",
    "        100,\n",
    "        12500,\n",
    "        ms_perc[exp]['TEMP'].mean,\n",
    "        ms_perc[exp]['PRES'].mean,\n",
    "        ms_perc[exp]['QV'].mean\n",
    "    )\n",
    "    theta_e = utils.calc_equivalent_pot_temp(\n",
    "        ms_perc[exp]['TEMP'].mean,\n",
    "        ms_perc[exp]['PRES'].mean,\n",
    "        ms_perc[exp]['QV'].mean\n",
    "    )\n",
    "    theta_es = utils.calc_sat_equivalent_pot_temp(\n",
    "        ms_perc[exp]['TEMP'].mean,\n",
    "        ms_perc[exp]['PRES'].mean\n",
    "    )\n",
    "    stats_perc = moisture_space.ProfileStats(variable='LR', mean=lapse_rate)\n",
    "    ms_perc[exp]['LR'] = moisture_space.PercMoistureSpace(exp, stats_perc, ms_perc[exp]['TEMP'].bins, h)\n",
    "    stats_perc = moisture_space.ProfileStats(variable='THETA_E', mean=theta_e)\n",
    "    ms_perc[exp]['THETA_E'] = moisture_space.PercMoistureSpace(exp, stats_perc, ms_perc[exp]['TEMP'].bins, h)\n",
    "    stats_perc = moisture_space.ProfileStats(variable='THETA_ES', mean=theta_es)\n",
    "    ms_perc[exp]['THETA_ES'] = moisture_space.PercMoistureSpace(exp, stats_perc, ms_perc[exp]['TEMP'].bins, h)\n",
    "    stats_perc = moisture_space.ProfileStats(variable='S', mean=stability)\n",
    "    ms_perc[exp]['S'] = moisture_space.PercMoistureSpace(exp, stats_perc, ms_perc[exp]['TEMP'].bins, h)\n",
    "    stats_perc = moisture_space.ProfileStats(variable='QTOT', mean=cc_tot)\n",
    "    ms_perc[exp]['QTOT'] = moisture_space.PercMoistureSpace(exp, stats_perc, ms_perc[exp]['TEMP'].bins, h)\n",
    "    stats_perc = moisture_space.ProfileStats(variable='E', mean=e)\n",
    "    ms_perc[exp]['E'] = moisture_space.PercMoistureSpace(exp, stats_perc, ms_perc[exp]['TEMP'].bins, h)\n",
    "    stats_perc = moisture_space.ProfileStats(variable='TEMP_D', mean=td)\n",
    "    ms_perc[exp]['TEMP_D'] = moisture_space.PercMoistureSpace(exp, stats_perc, ms_perc[exp]['TEMP'].bins, h)\n",
    "    stats_perc = moisture_space.ProfileStats(variable='Es', mean=es)\n",
    "    ms_perc[exp]['Es'] = moisture_space.PercMoistureSpace(exp, stats_perc, ms_perc[exp]['TEMP'].bins, h)\n",
    "    stats_perc = moisture_space.ProfileStats(variable='logQV', mean=np.log(ms_perc[exp]['QV'].mean))\n",
    "    ms_perc[exp]['logQV'] = moisture_space.PercMoistureSpace(exp, stats_perc, ms_perc[exp]['TEMP'].bins, h)\n",
    "    stats_perc = moisture_space.ProfileStats(variable='Wint', mean=w_int)\n",
    "    ms_perc[exp]['Wint'] = moisture_space.PercMoistureSpace(exp, stats_perc, ms_perc[exp]['TEMP'].bins, h)\n",
    "    stats_perc = moisture_space.ProfileStats(variable='DENS', mean=density)\n",
    "    ms_perc[exp]['DENS'] = moisture_space.PercMoistureSpace(exp, stats_perc, ms_perc[exp]['TEMP'].bins, h)"
   ]
  },
  {
   "cell_type": "markdown",
   "metadata": {},
   "source": [
    "# Create collections of moisture spaces for each variable"
   ]
  },
  {
   "cell_type": "code",
   "execution_count": null,
   "metadata": {},
   "outputs": [],
   "source": [
    "reload(moisture_space)\n",
    "ms_perc_series = {}\n",
    "ms_bins_series = {}\n",
    "for var in variables_3D+['QTOT', 'E', 'Es', 'logQV', 'LR', 'S', 'TEMP_D']:\n",
    "    perc_space_list = [ms_perc[exp][var] for exp in models_variability]\n",
    "    ms_perc_series[var] = moisture_space.MoistureSpaceSeries(perc_space_list)\n",
    "for var in variables_3D:\n",
    "    bin_space_list = [ms_bins[exp][var] for exp in models_variability]\n",
    "    ms_bins_series[var] = moisture_space.MoistureSpaceSeries(bin_space_list, remove_nans=True)\n",
    "\n",
    "# Calculate EOFs and expansion coefficients\n",
    "\n",
    "eofs = {}\n",
    "eofs_iwv = {}\n",
    "variability_frac = {}\n",
    "variability_frac_iwv = {}\n",
    "expansion_coeffs = {}\n",
    "expansion_coeffs_iwv = {}\n",
    "rep_1 = {}\n",
    "rep_2 = {}\n",
    "rep_5 = {}\n",
    "for var in ['RH', 'TEMP']:\n",
    "    eofs[var], variability_frac[var], expansion_coeffs[var] = ms_perc_series[var].calc_EOFs()\n",
    "    eofs_iwv[var], variability_frac_iwv[var], expansion_coeffs_iwv[var] = ms_bins_series[var].calc_EOFs()\n",
    "    rep_1[var] = ms_perc_series[var].recunstruct_from_EOFs(1)\n",
    "    rep_2[var] = ms_perc_series[var].recunstruct_from_EOFs(2)\n",
    "    rep_5[var] = ms_perc_series[var].recunstruct_from_EOFs(5)"
   ]
  },
  {
   "cell_type": "markdown",
   "metadata": {},
   "source": [
    "# Calculate EOFs for several variables"
   ]
  },
  {
   "cell_type": "code",
   "execution_count": null,
   "metadata": {},
   "outputs": [],
   "source": [
    "reload(moisture_space)\n",
    "var_pairs = [('RH', 'QI', 'QC', 'W')]\n",
    "ms_perc_collections = {}\n",
    "eofs_cov = {}\n",
    "variability_frac_cov = {}\n",
    "expansion_coeffs_cov = {}\n",
    "for pair in var_pairs:\n",
    "    ms_perc_collections[pair] = moisture_space.MoistureSpaceSeriesCollection([ms_perc_series[pair[i]] for i in range(len(pair))])\n",
    "    eofs_cov[pair], variability_frac_cov[pair], expansion_coeffs_cov[pair] = ms_perc_collections[pair].calc_EOFs()\n",
    "    #eofs_combined = ms_perc_collections[pair].calc_EOFs()"
   ]
  },
  {
   "cell_type": "markdown",
   "metadata": {},
   "source": [
    "# Perform SVD for Pairs of Variables"
   ]
  },
  {
   "cell_type": "code",
   "execution_count": null,
   "metadata": {},
   "outputs": [],
   "source": [
    "reload(moisture_space)\n",
    "var_pairs = [('RH', 'TEMP'), ('RH', 'S'), ('RH', 'logQV'), ('TEMP', 'logQV'), ('RH', 'QTOT'), ('RH', 'QC'), ('RH', 'QV'), ('RH', 'QI'), ('RH', 'CFI'), ('QV', 'QTOT'), ('QI', 'QC'), ('TEMP', 'W'), ('TEMP', 'QV')]\n",
    "ms_perc_pairs = {}\n",
    "singular_vec = {}\n",
    "frac_variability = {}\n",
    "expansion_coeffs_svs = {}\n",
    "for pair in var_pairs:\n",
    "    ms_perc_pairs[pair] = moisture_space.MoistureSpaceSeriesPair(ms_perc_series[pair[0]], ms_perc_series[pair[1]])\n",
    "    singular_vec_0, singular_vec_1, frac_variability[pair],\\\n",
    "    expansion_coeffs_0, expansion_coeffs_1 = ms_perc_pairs[pair].perform_SVD()\n",
    "    singular_vec[pair] = (singular_vec_0, singular_vec_1)\n",
    "    expansion_coeffs_svs[pair] = (expansion_coeffs_0, expansion_coeffs_1)"
   ]
  },
  {
   "cell_type": "markdown",
   "metadata": {},
   "source": [
    "# Plots"
   ]
  },
  {
   "cell_type": "markdown",
   "metadata": {},
   "source": [
    "## Fraction of variability explained by EOFs"
   ]
  },
  {
   "cell_type": "code",
   "execution_count": null,
   "metadata": {},
   "outputs": [],
   "source": [
    "plt.rcParams.update({'font.size': 15})\n",
    "plot_vars = ['RH', 'TEMP']\n",
    "fig, ax = plt.subplots(1, len(plot_vars), figsize=(15, 6))\n",
    "for i, var in enumerate(plot_vars):\n",
    "    ax[i].plot(variability_frac[var], '.')\n",
    "    ax[i].set_xlabel(f'{var} EOF Nr.')\n",
    "    ax[i].set_ylabel('Fraction of variability explained by EOF')\n",
    "plt.tight_layout()"
   ]
  },
  {
   "cell_type": "markdown",
   "metadata": {},
   "source": [
    "## EOFs"
   ]
  },
  {
   "cell_type": "code",
   "execution_count": null,
   "metadata": {},
   "outputs": [],
   "source": [
    "plot_vars = ['RH', 'TEMP']\n",
    "num_eofs = 3\n",
    "contours = np.arange(-0.06, 0.0625, 0.0025)\n",
    "x_lims = [0, 100]\n",
    "y_lims = [0, 17.5]\n",
    "x_label = 'Percentile of IWV'\n",
    "y_label = 'Height [km]'\n",
    "\n",
    "fig, ax = plt.subplots(len(plot_vars), num_eofs, figsize=(6 * num_eofs, 5 * len(plot_vars)), sharey=True)\n",
    "\n",
    "for i, var in enumerate(plot_vars):\n",
    "    for j in range(num_eofs):\n",
    "        plots.moisture_space_contourf(fig, ax[i, j], perc_values, h * 1e-3, eofs[var][j].T, contours,\\\n",
    "                              x_lims, y_lims, x_label, '', 'Variance of relative humidity',\\\n",
    "                              cmap='difference')\n",
    "        ax[i, j].set_title(f'{var} EOF {j}')\n",
    "plt.tight_layout()\n",
    "for i in range(len(plot_vars)):\n",
    "    ax[i, 0].set_ylabel(y_label)"
   ]
  },
  {
   "cell_type": "markdown",
   "metadata": {},
   "source": [
    "## Expansion coefficients"
   ]
  },
  {
   "cell_type": "code",
   "execution_count": null,
   "metadata": {},
   "outputs": [],
   "source": [
    "plot_vars = ['RH', 'TEMP']\n",
    "num_eofs = 3\n",
    "contours = np.arange(-0.06, 0.065, 0.005)\n",
    "x_lims = [0, 100]\n",
    "y_lims = [0, 20]\n",
    "x_label = 'Percentile of IWV'\n",
    "y_label = 'Height [km]'\n",
    "\n",
    "fig, ax = plt.subplots(len(plot_vars), num_eofs, figsize=(5 * num_eofs, 4 * len(plot_vars)))\n",
    "ax = ax.ravel()\n",
    "k = 0\n",
    "for i, var in enumerate(plot_vars):\n",
    "    for j in range(num_eofs):\n",
    "        ax[k].plot(expansion_coeffs[var][j], '.', markersize=20)\n",
    "        ax[k].plot([-1, 7], [0, 0], '--', color='k')\n",
    "        ax[k].set_ylim(-4, 4)\n",
    "        ax[k].set_xticks(np.arange(len(models_variability)))\n",
    "        ax[k].set_xticklabels(models_variability, fontsize=12, rotation=90)\n",
    "        ax[k].set_title(f'Principal components {var} EOF {j}', fontsize=13)\n",
    "        ax[k].set_ylabel('Principal component')\n",
    "        k += 1\n",
    "        seaborn.despine()\n",
    "plt.tight_layout()"
   ]
  },
  {
   "cell_type": "markdown",
   "metadata": {},
   "source": [
    "# EOFs for IWV-binned moisture space"
   ]
  },
  {
   "cell_type": "markdown",
   "metadata": {},
   "source": [
    "## Fraction of variability explained by EOF"
   ]
  },
  {
   "cell_type": "code",
   "execution_count": null,
   "metadata": {},
   "outputs": [],
   "source": [
    "plot_var = 'RH'\n",
    "fig, ax = plt.subplots(figsize=(10, 6))\n",
    "\n",
    "ax.plot(variability_frac_iwv[plot_var], '.')\n",
    "ax.set_xlabel(f'{plot_var} EOF Nr.')\n",
    "ax.set_ylabel('Fraction of variability explained by EOF')\n",
    "plt.tight_layout()"
   ]
  },
  {
   "cell_type": "markdown",
   "metadata": {},
   "source": [
    "## EOFs"
   ]
  },
  {
   "cell_type": "code",
   "execution_count": null,
   "metadata": {},
   "outputs": [],
   "source": [
    "plot_vars = ['RH']\n",
    "num_eofs = 3\n",
    "contours = np.arange(-0.06, 0.0625, 0.0025)\n",
    "x_lims = [5, 75]\n",
    "y_lims = [0, 17.5]\n",
    "x_label = 'IWV'\n",
    "y_label = 'Height [km]'\n",
    "\n",
    "fig, ax = plt.subplots(len(plot_vars), num_eofs, figsize=(6 * num_eofs, 5 * len(plot_vars)))\n",
    "ax = ax.ravel()\n",
    "k = 0\n",
    "for i, var in enumerate(plot_vars):\n",
    "    for j in range(num_eofs):\n",
    "        plots.moisture_space_contourf(fig, ax[k], ms_bins_series[var].bins, h * 1e-3, eofs_iwv[var][j].T, contours,\\\n",
    "                              x_lims, y_lims, x_label, y_label, 'Standard deviation of relative humidity [%]',\\\n",
    "                              cmap='difference')\n",
    "        ax[k].set_title(f'{var} EOF {j}')\n",
    "        k += 1\n",
    "plt.tight_layout()"
   ]
  },
  {
   "cell_type": "markdown",
   "metadata": {},
   "source": [
    "## Expansion coefficients"
   ]
  },
  {
   "cell_type": "code",
   "execution_count": null,
   "metadata": {},
   "outputs": [],
   "source": [
    "plot_vars = ['RH']\n",
    "num_eofs = 3\n",
    "contours = np.arange(-0.06, 0.065, 0.005)\n",
    "x_lims = [0, 100]\n",
    "y_lims = [0, 20]\n",
    "x_label = 'Percentile of IWV'\n",
    "y_label = 'Height [km]'\n",
    "\n",
    "fig, ax = plt.subplots(len(plot_vars), num_eofs, figsize=(5 * num_eofs, 4 * len(plot_vars)))\n",
    "ax = ax.ravel()\n",
    "k = 0\n",
    "for i, var in enumerate(plot_vars):\n",
    "    for j in range(num_eofs):\n",
    "        ax[k].plot(expansion_coeffs_iwv[var][j], '.', markersize=20)\n",
    "        ax[k].plot([-1, 7], [0, 0], '--', color='k')\n",
    "        ax[k].set_ylim(-4, 4)\n",
    "        ax[k].set_xticks(np.arange(len(models_variability)))\n",
    "        ax[k].set_xticklabels(models_variability, fontsize=12, rotation=90)\n",
    "        ax[k].set_title(f'Principal components {var} EOF {j}')\n",
    "        ax[k].set_ylabel('Principal component')\n",
    "        k += 1\n",
    "        seaborn.despine()\n",
    "plt.tight_layout()"
   ]
  },
  {
   "cell_type": "markdown",
   "metadata": {},
   "source": [
    "# EOFs for several variables"
   ]
  },
  {
   "cell_type": "markdown",
   "metadata": {},
   "source": [
    "## EOFs"
   ]
  },
  {
   "cell_type": "code",
   "execution_count": null,
   "metadata": {},
   "outputs": [],
   "source": [
    "plt.rcParams.update({'font.size': 13})\n",
    "reload(plots)\n",
    "pair = ('RH', 'QI', 'QC', 'W')\n",
    "num_vars = len(pair)\n",
    "num_eofs = 4\n",
    "contours = {\n",
    "    'RH': np.arange(-0.06, 0.0625, 0.0025),\n",
    "    'QI': np.arange(-0.00001, 0.0000101, 0.000001),\n",
    "    'QC': np.arange(-0.00001, 0.0000101, 0.000001),\n",
    "    'W': np.arange(-0.005, 0.005, 0.0005)\n",
    "}\n",
    "x_lims = [0, 100]\n",
    "y_lims = [0, 17.5]\n",
    "\n",
    "x_label = 'Percentile of IWV'\n",
    "y_label = 'Height [km]'\n",
    "fig, ax = plt.subplots(len(pair), num_eofs, figsize=(15, 12), sharey=True, sharex=True)\n",
    "for j in range(len(pair)):\n",
    "    for i in range(num_eofs):\n",
    "        plots.moisture_space_contourf(fig, ax[i, j], perc_values, h * 1e-3, eofs_cov[pair][j][i].T, contours[pair[j]],\\\n",
    "                              x_lims, y_lims, '', '', '', cm_orientation='vertical',\\\n",
    "                              cmap='difference')\n",
    "        ax[i, j].set_title(f'{pair[j]} EOF {i}')\n",
    "plt.tight_layout()\n",
    "for i in range(num_eofs):\n",
    "    ax[num_vars-1, i].set_xlabel(x_label)\n",
    "for i in range(num_vars):\n",
    "    ax[i, 0].set_ylabel(y_label)"
   ]
  },
  {
   "cell_type": "markdown",
   "metadata": {},
   "source": [
    "## Principal components"
   ]
  },
  {
   "cell_type": "code",
   "execution_count": null,
   "metadata": {},
   "outputs": [],
   "source": [
    "len(expansion_coeffs_cov[pair])\n",
    "\n",
    "fig, ax = plt.subplots(len(pair), num_eofs, figsize=(15, 15))\n",
    "for j in range(len(pair)):\n",
    "    for i in range(num_eofs):\n",
    "        ax[i, j].plot(expansion_coeffs_cov[pair][j][i], '.', markersize=12)\n",
    "        ax[i, j].plot([0, len(models_variability)], [0, 0], '--', color='k')\n",
    "        ax[i, j].set_xticks(np.arange(len(models_variability)))\n",
    "        ax[i, j].set_xticklabels(models_variability, rotation=90)\n",
    "        ax[i, j].set_title(f'PC {pair[j]} EOF {i}')\n",
    "plt.tight_layout()\n",
    "\n",
    "expansion_coeffs_cov[pair]\n",
    "\n",
    "## Fraction of variability explained by EOFs\n",
    "\n",
    "plt.plot(variability_frac_cov[pair], '.')"
   ]
  },
  {
   "cell_type": "markdown",
   "metadata": {},
   "source": [
    "# SVDs"
   ]
  },
  {
   "cell_type": "markdown",
   "metadata": {},
   "source": [
    "## Singular vectos"
   ]
  },
  {
   "cell_type": "code",
   "execution_count": null,
   "metadata": {},
   "outputs": [],
   "source": [
    "reload(plots)\n",
    "plt.rcParams.update({'font.size': 15})\n",
    "pair = ('RH', 'QI')\n",
    "num_svs = 3\n",
    "contours = np.arange(-0.06, 0.0625, 0.0025)\n",
    "contours_qi = np.arange(-0.2, 0.21, 0.01)\n",
    "x_lims = [0, 100]\n",
    "y_lims = [0, 20]\n",
    "x_label = 'Percentile of IWV'\n",
    "y_label = 'Height [km]'\n",
    "\n",
    "fig, ax = plt.subplots(2, num_svs, figsize=(6 * num_svs, 10))\n",
    "\n",
    "for i in range(2):\n",
    "    for j in range(num_svs):\n",
    "        if i == 1 and pair[i] in ['QI', 'QC']:\n",
    "            plots.moisture_space_contourf(fig, ax[i, j], perc_values, h * 1e-3, singular_vec[pair][i][j].T, contours_qi,\\\n",
    "                                  x_lims, y_lims, x_label, y_label, 'Singular vector',\\\n",
    "                                  cmap='difference')\n",
    "        else:\n",
    "            plots.moisture_space_contourf(fig, ax[i, j], perc_values, h * 1e-3, singular_vec[pair][i][j].T, contours,\\\n",
    "                                  x_lims, y_lims, x_label, y_label, 'Singular vector',\\\n",
    "                                  cmap='difference')\n",
    "        ax[i, j].set_title(f'SV {j} {pair[i]}')\n",
    "\n",
    "plt.tight_layout()"
   ]
  },
  {
   "cell_type": "markdown",
   "metadata": {},
   "source": [
    "## Fraction of co-variability explained by singular vectors"
   ]
  },
  {
   "cell_type": "code",
   "execution_count": null,
   "metadata": {},
   "outputs": [],
   "source": [
    "fig, ax = plt.subplots(figsize=(8, 6))\n",
    "ax.plot(frac_variability[pair], '.')\n",
    "ax.set_xlabel(f'{pair[0]}-{pair[1]} SV Nr.')\n",
    "ax.set_ylabel('Fraction of variability explained by SV')"
   ]
  },
  {
   "cell_type": "markdown",
   "metadata": {},
   "source": [
    "## Expansion coefficients"
   ]
  },
  {
   "cell_type": "code",
   "execution_count": null,
   "metadata": {},
   "outputs": [],
   "source": [
    "num_svs = 3\n",
    "fig, ax = plt.subplots(2, num_svs, figsize=(6 * num_svs, 12))\n",
    "for i in range(2):\n",
    "    for j in range(num_svs):\n",
    "        ax[i, j].plot(expansion_coeffs_svs[pair][i][:, j], '.', markersize=15)\n",
    "        ax[i, j].plot([-1, 7], [0, 0], '--', color='k')\n",
    "        #ax[k].set_ylim(-4, 4)\n",
    "        ax[i, j].set_xticks(np.arange(len(models_variability)))\n",
    "        ax[i, j].set_xticklabels(models_variability, rotation=90)\n",
    "        ax[i, j].set_title(f'Expansion coefficients {pair[i]} SV {j}')\n",
    "plt.tight_layout()"
   ]
  }
 ],
 "metadata": {
  "kernelspec": {
   "display_name": "Python 3",
   "language": "python",
   "name": "python3"
  },
  "language_info": {
   "codemirror_mode": {
    "name": "ipython",
    "version": 3
   },
   "file_extension": ".py",
   "mimetype": "text/x-python",
   "name": "python",
   "nbconvert_exporter": "python",
   "pygments_lexer": "ipython3",
   "version": "3.6.10"
  },
  "toc": {
   "base_numbering": 1,
   "nav_menu": {},
   "number_sections": true,
   "sideBar": true,
   "skip_h1_title": false,
   "title_cell": "Table of Contents",
   "title_sidebar": "Contents",
   "toc_cell": false,
   "toc_position": {},
   "toc_section_display": true,
   "toc_window_display": true
  }
 },
 "nbformat": 4,
 "nbformat_minor": 4
}
