{
 "cells": [
  {
   "cell_type": "code",
   "execution_count": null,
   "metadata": {},
   "outputs": [],
   "source": [
    "import pickle\n",
    "import typhon\n",
    "import numpy as np\n",
    "import analysis_tools as atools\n",
    "import matplotlib.pyplot as plt\n",
    "from os.path import join\n",
    "from netCDF4 import Dataset\n",
    "from moisture_space import plots\n",
    "from scipy.interpolate import interp1d, interp2d\n",
    "plt.style.use(typhon.plots.styles.get('typhon'))"
   ]
  },
  {
   "cell_type": "code",
   "execution_count": null,
   "metadata": {},
   "outputs": [],
   "source": [
    "models = ['ICON', 'NICAM', 'GEOS', 'SAM', 'UM', 'FV3', 'MPAS', 'ARPEGE', 'IFS']\n",
    "runs = {\n",
    "    'ICON': ['2.5km'],\n",
    "    'NICAM': ['3.5km'],\n",
    "    'SAM': ['4.0km'],\n",
    "    'UM': ['5.0km'],\n",
    "    'FV3': ['3.25km'],\n",
    "    'GEOS': ['3.0km'],\n",
    "    'IFS': ['4.0km'],\n",
    "    'MPAS': ['3.75km'],\n",
    "    'ARPEGE': ['2.5km'],\n",
    "    'ERA5': ['31.0km']\n",
    "}\n",
    "exps = []\n",
    "for m in models:\n",
    "    for run in runs[m]:\n",
    "        exps.append(m+'-'+run)\n",
    "variables = ['QI']    \n",
    "time_period = ['0810', '0908']\n",
    "datapath = '/mnt/lustre02/work/mh1126/m300773/DYAMOND/{}/random_samples/'\n",
    "filenames = '{}_{}_sample_{}_{}-{}_CloudSat.nc'\n",
    "filename_cloudsat = '/mnt/lustre02/work/mh1126/m300773/CloudSat/2016/iwc_profiles_zip.nc'\n",
    "height = dict.fromkeys(models)\n",
    "num_levels = dict.fromkeys(models)\n",
    "num_profiles = 10000000\n",
    "h = np.arange(50, 20100, 100)\n",
    "for exp in exps:\n",
    "    filename = filenames.format(exp, variables[0], num_profiles, time_period[0], time_period[1])\n",
    "    filename = join(datapath.format(exp.split('-')[0]), filename)\n",
    "    #xarr = xr.open_dataset(filename)\n",
    "    with(Dataset(filename)) as ds:\n",
    "        height[exp] = ds.variables['height'][:].filled(np.nan)\n",
    "    num_levels[exp] = len(height[exp])"
   ]
  },
  {
   "cell_type": "code",
   "execution_count": null,
   "metadata": {},
   "outputs": [],
   "source": [
    "with Dataset(filename_cloudsat) as ds:\n",
    "    iwc_cloudsat = ds.variables['iwc'][:].filled(np.nan)\n",
    "    height_cloudsat = ds.variables['z'][:].filled(np.nan)"
   ]
  },
  {
   "cell_type": "code",
   "execution_count": null,
   "metadata": {},
   "outputs": [],
   "source": [
    "profiles = {}\n",
    "for exp in exps:\n",
    "    print(exp)\n",
    "    profiles[exp] = {}\n",
    "    for var in variables:\n",
    "        print(var)\n",
    "        filename = filenames.format(exp, var, num_profiles, time_period[0], time_period[1])\n",
    "        filename = join(datapath.format(exp.split('-')[0]), filename)\n",
    "        with(Dataset(filename)) as ds:\n",
    "            profiles[exp][var] = ds.variables[var][:, ::100].filled(np.nan)  \n",
    "        #cloudy_profiles[exp] = profiles[exp]['IWP'] > 1e-3"
   ]
  },
  {
   "cell_type": "code",
   "execution_count": null,
   "metadata": {},
   "outputs": [],
   "source": [
    "k = 1\n",
    "qi_interp = {}\n",
    "profiles_thinned = {}\n",
    "\n",
    "for exp in exps:\n",
    "    print(exp)\n",
    "    x = np.arange(0, profiles[exp]['QI'].shape[1], k)\n",
    "    profiles_thinned[exp] = profiles[exp]['QI'][:, ::k]\n",
    "    profiles_thinned[exp][np.isnan(profiles_thinned[exp])] = 0\n",
    "    print('interp')\n",
    "    qi_interp[exp] = interp2d(x, height[exp], profiles_thinned[exp], bounds_error=False, fill_value=np.nan)(x, h)"
   ]
  },
  {
   "cell_type": "code",
   "execution_count": null,
   "metadata": {},
   "outputs": [],
   "source": [
    "# tropical mean density profiles\n",
    "with open('/mnt/lustre02/work/mh1126/m300773/DYAMOND/Intermediate_data/density_profiles.pkl', 'rb') as infile:\n",
    "    density_profiles = pickle.load(infile)\n",
    "\n",
    "density_interp = {}\n",
    "for exp in exps:\n",
    "    density_interp[exp] = interp1d(density_profiles['height'], density_profiles[exp], bounds_error=False)(h)"
   ]
  },
  {
   "cell_type": "code",
   "execution_count": null,
   "metadata": {},
   "outputs": [],
   "source": [
    "qi_vol_interp = {}\n",
    "for exp in exps:\n",
    "    qi_vol_interp[exp] = qi_interp[exp] * np.expand_dims(density_interp[exp], 1)"
   ]
  },
  {
   "cell_type": "code",
   "execution_count": null,
   "metadata": {},
   "outputs": [],
   "source": [
    "def cloud_top_height(cloud_ice_content, height, thres=1e-5):\n",
    "    return height[np.nanargmax(cloud_ice_content > thres, axis=0)]"
   ]
  },
  {
   "cell_type": "code",
   "execution_count": null,
   "metadata": {},
   "outputs": [],
   "source": [
    "thres = 1e-5\n",
    "cth = {}\n",
    "for exp in exps:\n",
    "    cth[exp] = cloud_top_height(qi_vol_interp[exp], h, thres=thres)\n",
    "\n",
    "cth_cloudsat = cloud_top_height(iwc_cloudsat.T, height_cloudsat, thres=thres)"
   ]
  },
  {
   "cell_type": "code",
   "execution_count": null,
   "metadata": {},
   "outputs": [],
   "source": [
    "fig, ax = plt.subplots()\n",
    "for exp in exps:\n",
    "    bin_edges = np.arange(1., 18.1, 0.5)\n",
    "    bin_centers = bin_edges[:-1] + 0.5 * np.diff(bin_edges) \n",
    "    hist, bin_edges = np.histogram(cth[exp] * 1e-3, bin_edges, normed=True)\n",
    "    ax.plot(hist, bin_centers, color=plots.DYAMOND_colors(exp), lw=2.5, linestyle='-', label=exp)\n",
    "hist_cloudsat, bin_edges = np.histogram(cth_cloudsat * 1e-3, bin_edges, normed=True)\n",
    "ax.plot(hist_cloudsat, bin_centers, color='k', lw=2.5, linestyle='-', label='CloudSat')\n",
    "ax.legend()\n",
    "ax.set_xlim(0, 0.8)\n",
    "ax.set_ylabel('Cloud top height / km')\n",
    "ax.set_xlabel('PDF')\n",
    "plt.savefig('Plots/Cloud_top_height_DYAMOND_CloudSat_sat_sampled.pdf', dpi=400)\n",
    "#ax.hist(cth[exp] * 1e-3, bins=bins, histtype='step', color=plots.DYAMOND_colors(exp), lw=2.5, density=True)\n",
    "#ax.set_xscale(\"log\")\n",
    "#ax.set_ylim(0, 0.3)\n",
    "#ax.set_xlim(10, 18)"
   ]
  },
  {
   "cell_type": "code",
   "execution_count": null,
   "metadata": {},
   "outputs": [],
   "source": [
    "fig, ax = plt.subplots()\n",
    "im = ax.imshow(qi_vol_interp['ICON-2.5km'][:, ::100] * 1e6, aspect='auto')\n",
    "fig.colorbar(im)"
   ]
  },
  {
   "cell_type": "code",
   "execution_count": null,
   "metadata": {},
   "outputs": [],
   "source": [
    "plt.imshow(profiles['ICON-2.5km']['QI'][:, ::1000], aspect='auto')"
   ]
  },
  {
   "cell_type": "code",
   "execution_count": null,
   "metadata": {},
   "outputs": [],
   "source": [
    "height['IFS-4.0km']"
   ]
  },
  {
   "cell_type": "code",
   "execution_count": null,
   "metadata": {},
   "outputs": [],
   "source": [
    "plt.plot(iwc_cloudsat, height_cloudsat*1e-3)"
   ]
  },
  {
   "cell_type": "code",
   "execution_count": null,
   "metadata": {},
   "outputs": [],
   "source": [
    "h"
   ]
  },
  {
   "cell_type": "code",
   "execution_count": null,
   "metadata": {},
   "outputs": [],
   "source": []
  },
  {
   "cell_type": "code",
   "execution_count": null,
   "metadata": {},
   "outputs": [],
   "source": []
  }
 ],
 "metadata": {
  "kernelspec": {
   "display_name": "Python 3",
   "language": "python",
   "name": "python3"
  },
  "language_info": {
   "codemirror_mode": {
    "name": "ipython",
    "version": 3
   },
   "file_extension": ".py",
   "mimetype": "text/x-python",
   "name": "python",
   "nbconvert_exporter": "python",
   "pygments_lexer": "ipython3",
   "version": "3.6.10"
  },
  "toc": {
   "base_numbering": 1,
   "nav_menu": {},
   "number_sections": true,
   "sideBar": true,
   "skip_h1_title": false,
   "title_cell": "Table of Contents",
   "title_sidebar": "Contents",
   "toc_cell": false,
   "toc_position": {},
   "toc_section_display": true,
   "toc_window_display": false
  }
 },
 "nbformat": 4,
 "nbformat_minor": 4
}
