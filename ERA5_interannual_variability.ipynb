{
 "cells": [
  {
   "cell_type": "markdown",
   "metadata": {},
   "source": [
    "The purpose of this notebook is to quantify the interannual variability in the tropical humidity distribution in the ERA5 data"
   ]
  },
  {
   "cell_type": "code",
   "execution_count": null,
   "metadata": {},
   "outputs": [],
   "source": [
    "import numpy as np\n",
    "import os\n",
    "import random\n",
    "import pickle\n",
    "import seaborn\n",
    "import logging\n",
    "import typhon\n",
    "import filenames\n",
    "from pylab import cm\n",
    "from os.path import join\n",
    "from scipy.interpolate import interp1d\n",
    "from scipy.signal import detrend\n",
    "from scipy.stats import pearsonr\n",
    "import matplotlib.pyplot as plt\n",
    "import postprocessing_tools as ptools\n",
    "from importlib import reload\n",
    "from moisture_space import utils, plots, moisture_space\n",
    "mpl_logger = logging.getLogger('matplotlib') \n",
    "mpl_logger.setLevel(logging.WARNING)\n",
    "plt.style.use(typhon.plots.styles.get('typhon'))   "
   ]
  },
  {
   "cell_type": "markdown",
   "metadata": {},
   "source": [
    "# Config"
   ]
  },
  {
   "cell_type": "code",
   "execution_count": null,
   "metadata": {},
   "outputs": [],
   "source": [
    "years = [2014, 2015, 2016, 2017, 2018]\n",
    "time_period = {}\n",
    "for y in years:\n",
    "    time_period[y] = [f'{y}-08-10', f'{y}-09-08']\n",
    "\n",
    "    \n",
    "model = 'ERA5'\n",
    "run = '31.0km'\n",
    "exp = 'ERA5-31.0km'\n",
    "variables_3D = ['TEMP', 'PRES', 'QV', 'QI', 'QC', 'RH', 'W']\n",
    "variables_2D = []\n",
    "variables = variables_3D + variables_2D\n",
    "data_dir = '/mnt/lustre02/work/mh1126/m300773/DYAMOND'\n",
    "filename_suffix = ''\n",
    "num_samples = 10_000_000\n",
    "num_percs = 50\n",
    "h = np.arange(100, 17900, 400) # height vector to interpolate on       "
   ]
  },
  {
   "cell_type": "markdown",
   "metadata": {},
   "source": [
    "# Read data"
   ]
  },
  {
   "cell_type": "code",
   "execution_count": null,
   "metadata": {},
   "outputs": [],
   "source": [
    "ms = {}\n",
    "for y in years:\n",
    "    ms[y] = {}\n",
    "    for var in variables:\n",
    "        filename = filenames.averaged_profiles(data_dir, model, run, var, num_samples, num_percs, time_period[y], filename_suffix)\n",
    "        ms[y][var] = moisture_space.PercMoistureSpace.from_netcdf(filename)\n",
    "        if var in variables_3D:\n",
    "            ms[y][var] = ms[y][var].interpolate(h, kind='linear', interp_space='linear')\n",
    "perc_values = ms[y][var].bins"
   ]
  },
  {
   "cell_type": "markdown",
   "metadata": {},
   "source": [
    "# Create collection of moisture spaces from different years"
   ]
  },
  {
   "cell_type": "code",
   "execution_count": null,
   "metadata": {},
   "outputs": [],
   "source": [
    "reload(moisture_space)\n",
    "ms_series = {}\n",
    "for var in variables_3D:\n",
    "    perc_space_list = [ms[year][var] for year in years]\n",
    "    ms_series[var] = moisture_space.MoistureSpaceSeries(perc_space_list)"
   ]
  },
  {
   "cell_type": "markdown",
   "metadata": {},
   "source": [
    "# Mean profiles"
   ]
  },
  {
   "cell_type": "code",
   "execution_count": null,
   "metadata": {},
   "outputs": [],
   "source": [
    "# Save mean profiles to .pkl file\n",
    "mean_profiles = {}\n",
    "mean_profiles['height'] = h\n",
    "for n, year in enumerate(years):\n",
    "    mean_profiles[year] = {}\n",
    "    for var in variables_3D:\n",
    "        mean_profiles[year][var] = ms[year][var].mean_profile()\n",
    "\n",
    "# with open(os.path.join(datapath, f'ERA5_tropical_mean_profiles_{years[0]}-{years[-1]}.pkl'), 'wb') as outfile:\n",
    "#     pickle.dump(mean_profiles, outfile)\n",
    "        "
   ]
  },
  {
   "cell_type": "code",
   "execution_count": null,
   "metadata": {},
   "outputs": [],
   "source": [
    "reload(plots)\n",
    "plt.rcParams.update({'font.size': 15})\n",
    "plot_vars = ['TEMP', 'QV', 'RH', 'QI', 'QC']\n",
    "num_vars = len(plot_vars)\n",
    "bin_start= 0\n",
    "bin_end = 100\n",
    "plt.rcParams.update({'font.size': 17})\n",
    "fig, ax = plt.subplots(1, num_vars, figsize=(5 * num_vars, 7), sharey=True)\n",
    "for i, var in enumerate(plot_vars):\n",
    "    for year in years:\n",
    "        if var == 'QV':\n",
    "            ax[i].semilogx(ms[year][var].mean_profile(bin_start, bin_end) * plots.scaling_factors(var),\n",
    "                           h * 1e-3, lw=2.5, label=year)\n",
    "        else:\n",
    "            ax[i].plot(ms[year][var].mean_profile(bin_start, bin_end) * plots.scaling_factors(var),\\\n",
    "                       h * 1e-3, lw=2.5, label=year)\n",
    "        ax[i].set_xlabel(plots.axis_labels(var))\n",
    "        \n",
    "        ax[i].set_ylim(0, 17.5)\n",
    "        seaborn.despine(ax=ax[i])\n",
    "ax[0].set_ylabel('Height [m]')\n",
    "#ax[1].set_xlim(0, 20)\n",
    "ax[0].set_xlim(180, 300)\n",
    "ax[2].set_xlim(0, 90)\n",
    "ax[3].set_xlim(0, 15)\n",
    "ax[4].set_xlim(0, 50)\n",
    "ax[0].legend(fontsize=12)\n",
    "plt.tight_layout()"
   ]
  },
  {
   "cell_type": "markdown",
   "metadata": {},
   "source": [
    "# Distribution of RH in moisture space"
   ]
  },
  {
   "cell_type": "code",
   "execution_count": null,
   "metadata": {},
   "outputs": [],
   "source": [
    "reload(plots)\n",
    "fig, ax = plt.subplots(np.ceil(len(years) / 2).astype(int), 2, figsize=(15, 15))\n",
    "tick_labels = np.arange(10, 81, 10)\n",
    "ax = ax.ravel()\n",
    "\n",
    "plt.rcParams.update({'font.size': 20})\n",
    "x_lims = [0, 100]\n",
    "y_lims = [0, 17.5]\n",
    "x_label = 'Percentile of IWV'#axis_labels['IWV']\n",
    "y_label = 'Height [km]'\n",
    "contours = np.arange(0, 101, 5)\n",
    "contours_ci = np.arange(1, 200, 20)\n",
    "contours_cl = contours_ci\n",
    "\n",
    "lower_layer_bnd = 100\n",
    "upper_layer_bnd = 12500\n",
    "\n",
    "for i, year in enumerate(years):\n",
    "    plots.moisture_space_contourf(fig, ax[i], perc_values, h * 1e-3, (ms[year]['RH'].mean.T) * 1e2, contours,\\\n",
    "                                  x_lims, y_lims, x_label, y_label, 'RH [%]',\n",
    "                                  cm_orientation='vertical', cb_extend='neither', cb_ticks=np.arange(0, 110, 10),\\\n",
    "                                  cmap='BrBG', vmin=0, vmax=100)\n",
    "        \n",
    "    ci = plots.moisture_space_contour(fig, ax[i], perc_values, h * 1e-3, ms[year]['QI'].mean.T * 1e6, contours_ci,\\\n",
    "                                  x_lims, y_lims, x_label, y_label, 'w')\n",
    "    cl = plots.moisture_space_contour(fig, ax[i], perc_values, h * 1e-3, ms[year]['QC'].mean.T * 1e6, contours_cl,\\\n",
    "                                   x_lims, y_lims, x_label, y_label, 'lightblue')\n",
    "    cs = plots.moisture_space_contour(fig, ax[i], perc_values, h * 1e-3, ms[year]['W'].mean.T,\\\n",
    "                             [0.0], x_lims, y_lims, x_label, y_label, 'k')\n",
    "    #cs = plots.moisture_space_contour(fig, ax[i], perc_values, h * 1e-3, ms[exp]['W'].mean.T,\\\n",
    "    #                         [0.0], x_lims, y_lims, x_label, y_label, 'k')\n",
    "#     plots.moisture_space_line(ax[i], perc_values, ms[year]['H_tropo'].mean * 1e-3,\\\n",
    "#                                   x_lims, y_lims, x_label, y_label, lw=2, label=year, color='r')\n",
    "    ax[i].set_title(year)\n",
    "\n",
    "plt.tight_layout()"
   ]
  },
  {
   "cell_type": "code",
   "execution_count": null,
   "metadata": {},
   "outputs": [],
   "source": [
    "fig, ax = plt.subplots(figsize=(10, 5))\n",
    "x_lims = [0, 100]\n",
    "y_lims = [0, 17.5]\n",
    "x_label = 'Percentile of IWV'#axis_labels['IWV']\n",
    "y_label = 'Height / km'\n",
    "plots.moisture_space_contourf(fig, ax, perc_values, h * 1e-3, ms_series['RH'].variability.T * 1e2, np.arange(0, 13, 1),\\\n",
    "                              x_lims, y_lims, 'Percentile of IWV', y_label, 'RH standard deviation / %',\\\n",
    "                              cmap='Reds', cm_orientation='vertical', cb_extend='neither', vmin=0, vmax=12)\n",
    "plt.savefig('plots_seminar/ERA5_interannual_variability.pdf', dpi=400)\n",
    "\n",
    "fig, ax = plt.subplots(figsize=(10, 5))\n",
    "x_lims = [0, 100]\n",
    "y_lims = [0, 17.5]\n",
    "x_label = 'Percentile of IWV'#axis_labels['IWV']\n",
    "y_label = 'Height / km'\n",
    "plots.moisture_space_contourf(fig, ax, perc_values, h * 1e-3, ms_series['RH'].variability.T / ms_series['RH'].mean.T * 1e2, np.arange(0, 31, 2.5),\\\n",
    "                              x_lims, y_lims, 'Percentile of IWV', y_label, 'RH standard deviation / %',\\\n",
    "                              cmap='Reds', cm_orientation='vertical', cb_extend='neither', vmin=0, vmax=30)\n",
    "plt.savefig('plots_seminar/ERA5_interannual_variability.pdf', dpi=400)"
   ]
  },
  {
   "cell_type": "markdown",
   "metadata": {},
   "source": [
    "# Distribution of w in moisture space"
   ]
  },
  {
   "cell_type": "code",
   "execution_count": null,
   "metadata": {},
   "outputs": [],
   "source": [
    "reload(plots)\n",
    "fig, ax = plt.subplots(np.ceil(len(years) / 2).astype(int), 2, figsize=(15, 10))\n",
    "tick_labels = np.arange(10, 81, 10)\n",
    "ax = ax.ravel()\n",
    "\n",
    "plt.rcParams.update({'font.size': 20})\n",
    "x_lims = [0, 100]\n",
    "y_lims = [0, 17.5]\n",
    "x_label = 'Percentile of IWV'#axis_labels['IWV']\n",
    "y_label = 'Height [km]'\n",
    "contours = np.arange(-0.02, 0.020001, 0.0005)\n",
    "\n",
    "lower_layer_bnd = 100\n",
    "upper_layer_bnd = 12500\n",
    "\n",
    "for i, year in enumerate(years):\n",
    "    plots.moisture_space_contourf(fig, ax[i], perc_values, h * 1e-3, (ms[year]['W'].mean.T), contours,\\\n",
    "                                  x_lims, y_lims, x_label, y_label, 'W [m s-1]',\n",
    "                                  cm_orientation='vertical', cb_extend='both',\\\n",
    "                                  cmap='difference')\n",
    "    ax[i].set_title(year)"
   ]
  }
 ],
 "metadata": {
  "kernelspec": {
   "display_name": "Python 3",
   "language": "python",
   "name": "python3"
  },
  "language_info": {
   "codemirror_mode": {
    "name": "ipython",
    "version": 3
   },
   "file_extension": ".py",
   "mimetype": "text/x-python",
   "name": "python",
   "nbconvert_exporter": "python",
   "pygments_lexer": "ipython3",
   "version": "3.6.10"
  },
  "toc": {
   "base_numbering": 1,
   "nav_menu": {},
   "number_sections": true,
   "sideBar": true,
   "skip_h1_title": false,
   "title_cell": "Table of Contents",
   "title_sidebar": "Contents",
   "toc_cell": false,
   "toc_position": {},
   "toc_section_display": true,
   "toc_window_display": false
  }
 },
 "nbformat": 4,
 "nbformat_minor": 4
}
